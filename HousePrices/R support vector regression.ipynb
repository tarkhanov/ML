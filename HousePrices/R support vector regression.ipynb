{
 "cells": [
  {
   "cell_type": "code",
   "execution_count": null,
   "metadata": {
    "scrolled": true
   },
   "outputs": [],
   "source": [
    "require(tidyverse)\n",
    "require(e1071)"
   ]
  },
  {
   "cell_type": "code",
   "execution_count": null,
   "metadata": {},
   "outputs": [],
   "source": [
    "train <- read.csv(\"data/train.csv\", stringsAsFactors = F)\n",
    "test <- read.csv(\"data/test.csv\", stringsAsFactors = F)\n",
    "total <- bind_rows(train,test)"
   ]
  },
  {
   "cell_type": "code",
   "execution_count": null,
   "metadata": {},
   "outputs": [],
   "source": [
    "SalePrice <- train$SalePrice\n",
    "Id <- test$Id\n",
    "\n",
    "total[,c('Id','SalePrice')] <- NULL\n",
    "rm(train,test)"
   ]
  },
  {
   "cell_type": "code",
   "execution_count": null,
   "metadata": {},
   "outputs": [],
   "source": [
    "total <- total %>% mutate_if(is.numeric, funs(replace_na(., median(., na.rm = T)))) %>% # missing numeric <- median\n",
    "    mutate_if(is.character, replace_na, replace = 'MISS') %>% # missing cathrgorical <- MISS\n",
    "    mutate_if(is.character, as.factor)"
   ]
  },
  {
   "cell_type": "code",
   "execution_count": null,
   "metadata": {},
   "outputs": [],
   "source": [
    "train <- total[1:length(SalePrice),]\n",
    "\n",
    "test<-total[(length(SalePrice) + 1):nrow(total),]"
   ]
  },
  {
   "cell_type": "code",
   "execution_count": null,
   "metadata": {},
   "outputs": [],
   "source": [
    "set.seed(42)\n",
    "fit<-svm(SalePrice~., data=train, cost = 3) # svm algorithm with regression output\n",
    "fit.predict <- predict(fit, newdata = test)"
   ]
  },
  {
   "cell_type": "code",
   "execution_count": null,
   "metadata": {},
   "outputs": [],
   "source": [
    "submission <- data.frame(Id = Id, SalePrice = fit.predict)"
   ]
  },
  {
   "cell_type": "code",
   "execution_count": null,
   "metadata": {},
   "outputs": [],
   "source": [
    "write.csv(submission, './data/submission.csv', row.names = F)"
   ]
  },
  {
   "cell_type": "markdown",
   "metadata": {},
   "source": [
    "*Your submission scored 0.11919*"
   ]
  }
 ],
 "metadata": {
  "kernelspec": {
   "display_name": "R",
   "language": "R",
   "name": "ir"
  },
  "language_info": {
   "codemirror_mode": "r",
   "file_extension": ".r",
   "mimetype": "text/x-r-source",
   "name": "R",
   "pygments_lexer": "r",
   "version": "3.5.2"
  }
 },
 "nbformat": 4,
 "nbformat_minor": 2
}
